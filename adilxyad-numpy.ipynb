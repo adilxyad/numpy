{
 "cells": [
  {
   "cell_type": "code",
   "execution_count": 2,
   "id": "0ec504cd-5554-4ee9-b08c-e9b7ce165e57",
   "metadata": {},
   "outputs": [],
   "source": [
    "import numpy as np"
   ]
  },
  {
   "cell_type": "code",
   "execution_count": 8,
   "id": "631b60f8-cf58-4693-89ae-a852a5864e8e",
   "metadata": {},
   "outputs": [
    {
     "name": "stdout",
     "output_type": "stream",
     "text": [
      "[5 3 2]\n"
     ]
    }
   ],
   "source": [
    "#9\n",
    "\n",
    "\n",
    "x=np.array([[6,7,4,7,8],[4,5,3,2,1],[5,6,8,9,0]])\n",
    "print(x[1,1:4])"
   ]
  },
  {
   "cell_type": "code",
   "execution_count": 43,
   "id": "7a89b4c8-aba5-483b-be38-390fd042baef",
   "metadata": {},
   "outputs": [
    {
     "name": "stdout",
     "output_type": "stream",
     "text": [
      "[6 7 4]\n",
      "[4 5 3]\n",
      "[5 6 8]\n"
     ]
    }
   ],
   "source": [
    "x=np.array([[6,7,4,7,8],[4,5,3,2,1],[5,6,8,9,0]])\n",
    "print(x[0,0:3])\n",
    "print(x[1,0:3])\n",
    "print(x[2,0:3])"
   ]
  },
  {
   "cell_type": "code",
   "execution_count": 37,
   "id": "f68c1aac-e1cb-41dc-8474-66c19ca76043",
   "metadata": {},
   "outputs": [
    {
     "name": "stdout",
     "output_type": "stream",
     "text": [
      "[[5 6 8 9 0]\n",
      " [4 5 3 2 1]\n",
      " [6 7 4 7 8]]\n"
     ]
    }
   ],
   "source": [
    "x=np.array([[6,7,4,7,8],[4,5,3,2,1],[5,6,8,9,0]])\n",
    "print(x[::-1])"
   ]
  },
  {
   "cell_type": "code",
   "execution_count": 45,
   "id": "0ad3f0ff-e0b3-4bc5-84bb-dd40bd52018e",
   "metadata": {},
   "outputs": [
    {
     "data": {
      "text/plain": [
       "array([20, 23, 26, 29, 32, 35, 38, 41, 44])"
      ]
     },
     "execution_count": 45,
     "metadata": {},
     "output_type": "execute_result"
    }
   ],
   "source": [
    "#10\n",
    "\n",
    "arr=np.arange(20,45,3)\n",
    "arr\n",
    "\n",
    "\n"
   ]
  },
  {
   "cell_type": "code",
   "execution_count": 46,
   "id": "b9ac8e5d-a39a-4e4d-9ba1-df9ad19c9b2b",
   "metadata": {},
   "outputs": [
    {
     "data": {
      "text/plain": [
       "array([[0., 1., 0., 1., 0., 1., 0., 1.],\n",
       "       [1., 0., 1., 0., 1., 0., 1., 0.],\n",
       "       [0., 1., 0., 1., 0., 1., 0., 1.],\n",
       "       [1., 0., 1., 0., 1., 0., 1., 0.],\n",
       "       [0., 1., 0., 1., 0., 1., 0., 1.],\n",
       "       [1., 0., 1., 0., 1., 0., 1., 0.],\n",
       "       [0., 1., 0., 1., 0., 1., 0., 1.],\n",
       "       [1., 0., 1., 0., 1., 0., 1., 0.]])"
      ]
     },
     "execution_count": 46,
     "metadata": {},
     "output_type": "execute_result"
    }
   ],
   "source": [
    "#11 \n",
    "\n",
    "arr=np.zeros(64)\n",
    "arr=arr.reshape(8,8)\n",
    "arr[1::2, ::2]=1\n",
    "arr[::2, 1::2]=1\n",
    "arr"
   ]
  },
  {
   "cell_type": "code",
   "execution_count": 47,
   "id": "8abb506f-2e12-4145-a905-6e09e199fc7c",
   "metadata": {},
   "outputs": [
    {
     "name": "stdout",
     "output_type": "stream",
     "text": [
      "<class 'numpy.ndarray'>\n",
      "<class 'numpy.ndarray'>\n"
     ]
    }
   ],
   "source": [
    "#12\n",
    "\n",
    "a=[1,2,3,4,5,6,7,8]\n",
    "b=([8,4,6],[1,2,3])\n",
    "arr=np.array(a)\n",
    "arr1=np.array(b)\n",
    "print(type(arr))\n",
    "print(type(arr1))"
   ]
  },
  {
   "cell_type": "code",
   "execution_count": 75,
   "id": "3b0f8ea2-401d-44f3-93a7-3761a030f9d0",
   "metadata": {},
   "outputs": [
    {
     "data": {
      "text/plain": [
       "array([[[ 1,  2],\n",
       "        [ 3,  4]],\n",
       "\n",
       "       [[ 5,  6],\n",
       "        [ 7,  0]],\n",
       "\n",
       "       [[ 9, 10],\n",
       "        [11, 12]]])"
      ]
     },
     "execution_count": 75,
     "metadata": {},
     "output_type": "execute_result"
    }
   ],
   "source": [
    "#13\n",
    "\n",
    "arr=np.array([[[1,2],[3,4]],[[5,6],[7,8]],[[9,10],[11,12]]])\n",
    "arr[1,1,1]=0\n",
    "arr"
   ]
  },
  {
   "cell_type": "code",
   "execution_count": 54,
   "id": "28569ca4-979e-47cb-add7-d5eee11e7719",
   "metadata": {},
   "outputs": [
    {
     "data": {
      "text/plain": [
       "array([1, 1, 1])"
      ]
     },
     "execution_count": 54,
     "metadata": {},
     "output_type": "execute_result"
    }
   ],
   "source": [
    "#14\n",
    "\n",
    "a=np.array([1.1,1.2,1.3],dtype=\"int\")\n",
    "a"
   ]
  },
  {
   "cell_type": "code",
   "execution_count": 58,
   "id": "52ca8361-75ca-46bc-8d8e-9084ebf542ed",
   "metadata": {},
   "outputs": [
    {
     "data": {
      "text/plain": [
       "array([[0., 0., 0., 0., 0., 0., 0.],\n",
       "       [0., 1., 1., 1., 1., 1., 0.],\n",
       "       [0., 1., 2., 2., 2., 1., 0.],\n",
       "       [0., 1., 2., 3., 2., 1., 0.],\n",
       "       [0., 1., 2., 2., 2., 1., 0.],\n",
       "       [0., 1., 1., 1., 1., 1., 0.],\n",
       "       [0., 0., 0., 0., 0., 0., 0.]])"
      ]
     },
     "execution_count": 58,
     "metadata": {},
     "output_type": "execute_result"
    }
   ],
   "source": [
    "#15\n",
    "\n",
    "\n",
    "arr=np.zeros(49)\n",
    "arr=arr.reshape(7,7)\n",
    "arr[1:-1,1:-1]=1\n",
    "arr[2:-2,2:-2]=2\n",
    "arr[3:4,3:4]=3\n",
    "arr"
   ]
  },
  {
   "cell_type": "code",
   "execution_count": 77,
   "id": "e4a5b093-5515-41e0-9ab7-e2cb1a09beca",
   "metadata": {},
   "outputs": [
    {
     "data": {
      "text/plain": [
       "array([[[5, 6, 7],\n",
       "        [7, 0, 9]],\n",
       "\n",
       "       [[0, 4, 8],\n",
       "        [2, 0, 1]],\n",
       "\n",
       "       [[9, 5, 3],\n",
       "        [0, 0, 5]]])"
      ]
     },
     "execution_count": 77,
     "metadata": {},
     "output_type": "execute_result"
    }
   ],
   "source": [
    "#16\n",
    "\n",
    "a=np.array([[[5,6,7],[7,8,9]],[[0,4,8],[2,3,1]],[[9,5,3],[0,4,5]]])\n",
    "a[0,1,1]=0\n",
    "a[1,1,1]=0\n",
    "a[2,1,1]=0\n",
    "a"
   ]
  },
  {
   "cell_type": "code",
   "execution_count": 79,
   "id": "61abdf69-9f57-4f5a-aef3-d5e44785c21c",
   "metadata": {},
   "outputs": [
    {
     "data": {
      "text/plain": [
       "array([[[ 0, 10,  0],\n",
       "        [88,  0, 45]],\n",
       "\n",
       "       [[ 0, 78,  0],\n",
       "        [41, 77,  0]],\n",
       "\n",
       "       [[ 0,  9,  0],\n",
       "        [12, 67,  9]]])"
      ]
     },
     "execution_count": 79,
     "metadata": {},
     "output_type": "execute_result"
    }
   ],
   "source": [
    "b=np.array([[[11,10,12],[88,0,45]],[[90,78,33],[41,77,0]],[[8,9,90],[12,67,9]]])\n",
    "b[0,0,0]=0\n",
    "b[0,0,2]=0\n",
    "b[1,0,0]=0\n",
    "b[1,0,2]=0\n",
    "b[2,0,0]=0\n",
    "b[2,0,2]=0\n",
    "b\n",
    "arr[1::2, ::1]=1"
   ]
  },
  {
   "cell_type": "code",
   "execution_count": 116,
   "id": "352e70f1-a933-4bf1-a536-50850ecced62",
   "metadata": {},
   "outputs": [
    {
     "data": {
      "text/plain": [
       "array([[0., 1., 0., 1., 0., 1., 0.],\n",
       "       [0., 0., 0., 0., 0., 0., 0.],\n",
       "       [1., 1., 1., 1., 1., 1., 1.],\n",
       "       [0., 0., 0., 0., 0., 0., 0.],\n",
       "       [0., 1., 0., 1., 0., 1., 0.],\n",
       "       [1., 0., 1., 0., 1., 0., 1.]])"
      ]
     },
     "execution_count": 116,
     "metadata": {},
     "output_type": "execute_result"
    }
   ],
   "source": [
    "#17\n",
    "\n",
    "arr=np.zeros(42)\n",
    "arr=arr.reshape(6,7)\n",
    "arr[::3, 1::2]=1\n",
    "arr[2::3, ::2]=1\n",
    "arr"
   ]
  }
 ],
 "metadata": {
  "kernelspec": {
   "display_name": "Python 3 (ipykernel)",
   "language": "python",
   "name": "python3"
  },
  "language_info": {
   "codemirror_mode": {
    "name": "ipython",
    "version": 3
   },
   "file_extension": ".py",
   "mimetype": "text/x-python",
   "name": "python",
   "nbconvert_exporter": "python",
   "pygments_lexer": "ipython3",
   "version": "3.12.4"
  }
 },
 "nbformat": 4,
 "nbformat_minor": 5
}
